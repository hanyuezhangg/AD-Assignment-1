{
 "cells": [
  {
   "cell_type": "markdown",
   "metadata": {
    "id": "rbgjVp6BXGCT"
   },
   "source": [
    "\n",
    "# **Assignment 1**\n",
    "\n",
    "\n",
    "## Task 1. Correlation\n",
    "We will use the data example from the textbook \"Statistical Analysis with The General Linear Model\" by Miller and Haden (2013), Chapter 11.\n",
    "\n",
    "As in Miller and Haden, we have five columns:\n",
    "\n",
    "-Participant (Participant),\n",
    "\n",
    "-Reading Ability (Abil),\n",
    "\n",
    "-Intelligence (IQ),\n",
    "\n",
    "-Number of minutes spent reading at home per week (Home),\n",
    "\n",
    "-Number of minutes spent watching TV per week (TV).\n",
    "\n",
    "\n",
    "For the task we will focus on the relationship between Reading Ability and IQ, but for further practice you can look at other relationships on your own."
   ]
  },
  {
   "cell_type": "markdown",
   "metadata": {
    "id": "Z4cXzKORYFaD"
   },
   "source": [
    "**Question 1**:\n",
    "\n",
    "a. Check whether the data is interval, ratio, or ordinal.\n",
    "\n",
    "b. Check whether there is a data point for each participant on both variables.\n",
    "\n",
    "c. Check whether the data is normally distributed in both variables.\n",
    "\n",
    "d. Create a scatter plot with Reading Ability being the x-axis and IQ, being the y-axis.\n",
    "\n",
    "e. Draw a correlation line on the scatter plot.\n",
    "\n",
    "\n",
    "**Instructions:**\n",
    "\n",
    "1. Load the necessary libraries and explain why you need them (\"#used for ...\").\n",
    "\n",
    "2. Read the MillerHadenData.csv file into a DataFrame and name it \"df_mh\"."
   ]
  },
  {
   "cell_type": "code",
   "execution_count": 51,
   "metadata": {
    "id": "140M8Z4qYn_G"
   },
   "outputs": [],
   "source": [
    "import pandas as pd # used for data wrangling\n",
    "import seaborn as sns # used for visualization\n",
    "import matplotlib  # used for visualization.\n",
    "from matplotlib import pyplot as plt # used for plotting charts, scatter plots\n",
    "import pylab # used for integrating numpy and matplotlib with a single import\n",
    "import pingouin as pg # used for statistical tests"
   ]
  },
  {
   "cell_type": "code",
   "execution_count": 32,
   "metadata": {
    "id": "rwqidw5q2D1n"
   },
   "outputs": [
    {
     "data": {
      "text/html": [
       "<div>\n",
       "<style scoped>\n",
       "    .dataframe tbody tr th:only-of-type {\n",
       "        vertical-align: middle;\n",
       "    }\n",
       "\n",
       "    .dataframe tbody tr th {\n",
       "        vertical-align: top;\n",
       "    }\n",
       "\n",
       "    .dataframe thead th {\n",
       "        text-align: right;\n",
       "    }\n",
       "</style>\n",
       "<table border=\"1\" class=\"dataframe\">\n",
       "  <thead>\n",
       "    <tr style=\"text-align: right;\">\n",
       "      <th></th>\n",
       "      <th>Participant</th>\n",
       "      <th>Abil</th>\n",
       "      <th>IQ</th>\n",
       "      <th>Home</th>\n",
       "      <th>TV</th>\n",
       "    </tr>\n",
       "  </thead>\n",
       "  <tbody>\n",
       "    <tr>\n",
       "      <th>0</th>\n",
       "      <td>1</td>\n",
       "      <td>61</td>\n",
       "      <td>107</td>\n",
       "      <td>144</td>\n",
       "      <td>487</td>\n",
       "    </tr>\n",
       "    <tr>\n",
       "      <th>1</th>\n",
       "      <td>2</td>\n",
       "      <td>56</td>\n",
       "      <td>109</td>\n",
       "      <td>123</td>\n",
       "      <td>608</td>\n",
       "    </tr>\n",
       "    <tr>\n",
       "      <th>2</th>\n",
       "      <td>3</td>\n",
       "      <td>45</td>\n",
       "      <td>81</td>\n",
       "      <td>108</td>\n",
       "      <td>640</td>\n",
       "    </tr>\n",
       "    <tr>\n",
       "      <th>3</th>\n",
       "      <td>4</td>\n",
       "      <td>66</td>\n",
       "      <td>100</td>\n",
       "      <td>155</td>\n",
       "      <td>493</td>\n",
       "    </tr>\n",
       "    <tr>\n",
       "      <th>4</th>\n",
       "      <td>5</td>\n",
       "      <td>49</td>\n",
       "      <td>92</td>\n",
       "      <td>103</td>\n",
       "      <td>636</td>\n",
       "    </tr>\n",
       "  </tbody>\n",
       "</table>\n",
       "</div>"
      ],
      "text/plain": [
       "   Participant  Abil   IQ  Home   TV\n",
       "0            1    61  107   144  487\n",
       "1            2    56  109   123  608\n",
       "2            3    45   81   108  640\n",
       "3            4    66  100   155  493\n",
       "4            5    49   92   103  636"
      ]
     },
     "execution_count": 32,
     "metadata": {},
     "output_type": "execute_result"
    }
   ],
   "source": [
    "# Q1a (code)\n",
    "df_mh = pd.read_csv('/Users/zhanghanyue/Desktop/MillerHadenData.csv')"
   ]
  },
  {
   "cell_type": "code",
   "execution_count": 52,
   "metadata": {},
   "outputs": [
    {
     "name": "stdout",
     "output_type": "stream",
     "text": [
      "<class 'pandas.core.frame.DataFrame'>\n",
      "RangeIndex: 25 entries, 0 to 24\n",
      "Data columns (total 5 columns):\n",
      " #   Column       Non-Null Count  Dtype\n",
      "---  ------       --------------  -----\n",
      " 0   Participant  25 non-null     int64\n",
      " 1   Abil         25 non-null     int64\n",
      " 2   IQ           25 non-null     int64\n",
      " 3   Home         25 non-null     int64\n",
      " 4   TV           25 non-null     int64\n",
      "dtypes: int64(5)\n",
      "memory usage: 1.1 KB\n"
     ]
    }
   ],
   "source": [
    "# Check data types and information\n",
    "df_mh.info()"
   ]
  },
  {
   "cell_type": "code",
   "execution_count": 56,
   "metadata": {
    "id": "Edd9mYgi2Jar"
   },
   "outputs": [
    {
     "name": "stdout",
     "output_type": "stream",
     "text": [
      "Participant    0\n",
      "Abil           0\n",
      "IQ             0\n",
      "Home           0\n",
      "TV             0\n",
      "dtype: int64\n",
      "Abil    0\n",
      "IQ      0\n",
      "dtype: int64\n"
     ]
    }
   ],
   "source": [
    "# Q1b (code):\n",
    "# Check for missing values\n",
    "## Compute the number of missing values in each column of the DataFrame df_mh\n",
    "missing_values = df_mh.isnull().sum()#source:https://note.nkmk.me/en/python-pandas-nan-judge-count/\n",
    "print(missing_values)\n",
    "# Check whether there is a data point for each participant on both variables\n",
    "# Compute the number of missing values in the columns 'Abil' and 'IQ' of the DataFrame df_mh\n",
    "missing_abil_iq = df_mh[['Abil', 'IQ']].isnull().sum()\n",
    "print(missing_abil_iq)"
   ]
  },
  {
   "cell_type": "code",
   "execution_count": 50,
   "metadata": {
    "id": "3ALe0fjr2K5h"
   },
   "outputs": [
    {
     "data": {
      "image/png": "[encoded data removed]",
      "text/plain": [
       "<Figure size 640x480 with 2 Axes>"
      ]
     },
     "metadata": {},
     "output_type": "display_data"
    }
   ],
   "source": [
    "# Q1c (code):\n",
    "# Check data distribution\n",
    "df_mh.hist(column=['Abil', 'IQ'])\n",
    "plt.show()"
   ]
  },
  {
   "cell_type": "code",
   "execution_count": 49,
   "metadata": {
    "id": "xaQ300fY2MPe"
   },
   "outputs": [
    {
     "data": {
      "image/png": "[encoded data removed]",
      "text/plain": [
       "<Figure size 640x480 with 1 Axes>"
      ]
     },
     "metadata": {},
     "output_type": "display_data"
    }
   ],
   "source": [
    "# Q1d (code):\n",
    "# Scatter plot\n",
    "Abil = df_mh['Abil']\n",
    "IQ = df_mh['IQ']\n",
    "plt.scatter(Abil, IQ, c=\"r\")\n",
    "plt.xlabel(\"Abil\") \n",
    "plt.ylabel(\"IQ\")\n",
    "plt.show()"
   ]
  },
  {
   "cell_type": "code",
   "execution_count": 8,
   "metadata": {
    "id": "Zpkwqc382N06"
   },
   "outputs": [
    {
     "data": {
      "image/png": "[encoded data removed]",
      "text/plain": [
       "<Figure size 640x480 with 1 Axes>"
      ]
     },
     "metadata": {},
     "output_type": "display_data"
    }
   ],
   "source": [
    "# Q1e (code):\n",
    "# Correlation line\n",
    "plot_corr_sns = sns.regplot(x=\"Abil\", y=\"IQ\", color=\"r\", data=df_mh)"
   ]
  },
  {
   "cell_type": "markdown",
   "metadata": {
    "id": "tKtW2diqZq1S"
   },
   "source": [
    "**Question 2**:\n",
    "\n",
    "a. Which correlation coefficient test can we use, Pearson or Spearman? Briefly explian why based on the results of Question 1.\n",
    "\n",
    "b. Conduct a correlation coefficient test.\n",
    "\n",
    "c. Interpret the result (direction and strength of the association between the two varibles)"
   ]
  },
  {
   "cell_type": "markdown",
   "metadata": {
    "id": "t5GRVxHwaKIS"
   },
   "source": [
    "Q2a (answer with words):\n",
    "\n",
    "\n",
    "Pearson. According to the results of Q1c, the data on reading ability and IQ are normally distributed and there is a linear relationship between them."
   ]
  },
  {
   "cell_type": "code",
   "execution_count": 10,
   "metadata": {
    "id": "LTSp6xMFaKgf"
   },
   "outputs": [
    {
     "name": "stdout",
     "output_type": "stream",
     "text": [
      "          n        r         CI95%     p-val   BF10     power\n",
      "pearson  25  0.45117  [0.07, 0.72]  0.023593  2.804  0.640299\n"
     ]
    }
   ],
   "source": [
    "# Q2b (code):\n",
    "corr = pg.corr(Abil, IQ)\n",
    "print(corr)"
   ]
  },
  {
   "cell_type": "markdown",
   "metadata": {
    "id": "m_3aCSG7ylFJ"
   },
   "source": [
    " Q2c (answer with words):\n",
    " \n",
    " \n",
    "The Pearson correlation coefficient is 0.45117, which indicates that reading ability is moderately positively correlated with IQ. The p-val is 0.023593, which is less than 0.05，suggesting that the correlation is statistically significant."
   ]
  },
  {
   "cell_type": "markdown",
   "metadata": {
    "id": "mogdaz8P27oU"
   },
   "source": [
    "## Task 2. Chi-square Test\n",
    "We will continue to use the data example from Task 1.\n",
    "\n",
    "We want to explore whether there are significant differences in the amount of time spent reading at home per week (Home) among people with different reading abilities (Reading Ability). Therefore, we will divide the reading ability of all participants into two groups. The first group is those with low reading ability (Reading Ability at or below the rounded average), and the second group is those with high reading ability (Reading Ability above the rounded average). We will store this grouping in a new column named \"Rank_Abil\".\n",
    "\n",
    "\n",
    "Similarly, the reading time is divided into two different scenarios: the first scenario is infrequent reading (Home at or below the rounded average), and the other is frequent reading (Reading Ability above the rounded average). We will store this grouping in a new column named \"Rank_Home\".\n",
    "\n",
    "\n",
    "Then, construct a Contingency Matrix and perform a Chi-square test.\n",
    "\n",
    "**Question 3**:\n",
    "\n",
    "a. Please state the null hypothesis (H0) and alternative hypothesis (H1) for this Chi-square test.\n",
    "\n",
    "b. Based on the task description, add new columns “Rank_Abil” and \"Rank_Home\" to the dataframe df_mh.\n",
    "\n",
    "c. Construct a Contingency Matrix.\n",
    "\n",
    "d. Perform a Chi-square test.\n",
    "\n",
    "e. Interpret the results of the Chi-square test (answer in text)."
   ]
  },
  {
   "cell_type": "markdown",
   "metadata": {
    "id": "tIKHfEwG-Pte"
   },
   "source": [
    "#Q3a (answer in words):\n",
    "\n",
    "#H0:There is no relationship between reading ability and the amount of time spent reading at home per week.\n",
    "\n",
    "#H1:There is a stong relationship between reading ability and the amount of time spent reading at home per week."
   ]
  },
  {
   "cell_type": "code",
   "execution_count": 110,
   "metadata": {
    "id": "nlO-hmq2-V2Z"
   },
   "outputs": [
    {
     "data": {
      "text/html": [
       "<div>\n",
       "<style scoped>\n",
       "    .dataframe tbody tr th:only-of-type {\n",
       "        vertical-align: middle;\n",
       "    }\n",
       "\n",
       "    .dataframe tbody tr th {\n",
       "        vertical-align: top;\n",
       "    }\n",
       "\n",
       "    .dataframe thead th {\n",
       "        text-align: right;\n",
       "    }\n",
       "</style>\n",
       "<table border=\"1\" class=\"dataframe\">\n",
       "  <thead>\n",
       "    <tr style=\"text-align: right;\">\n",
       "      <th></th>\n",
       "      <th>Participant</th>\n",
       "      <th>Abil</th>\n",
       "      <th>IQ</th>\n",
       "      <th>Home</th>\n",
       "      <th>TV</th>\n",
       "      <th>Rank_Abil</th>\n",
       "      <th>Rank_Home</th>\n",
       "    </tr>\n",
       "  </thead>\n",
       "  <tbody>\n",
       "    <tr>\n",
       "      <th>0</th>\n",
       "      <td>1</td>\n",
       "      <td>61</td>\n",
       "      <td>107</td>\n",
       "      <td>144</td>\n",
       "      <td>487</td>\n",
       "      <td>High</td>\n",
       "      <td>Frequent</td>\n",
       "    </tr>\n",
       "    <tr>\n",
       "      <th>1</th>\n",
       "      <td>2</td>\n",
       "      <td>56</td>\n",
       "      <td>109</td>\n",
       "      <td>123</td>\n",
       "      <td>608</td>\n",
       "      <td>High</td>\n",
       "      <td>Infrequent</td>\n",
       "    </tr>\n",
       "    <tr>\n",
       "      <th>2</th>\n",
       "      <td>3</td>\n",
       "      <td>45</td>\n",
       "      <td>81</td>\n",
       "      <td>108</td>\n",
       "      <td>640</td>\n",
       "      <td>Low</td>\n",
       "      <td>Infrequent</td>\n",
       "    </tr>\n",
       "    <tr>\n",
       "      <th>3</th>\n",
       "      <td>4</td>\n",
       "      <td>66</td>\n",
       "      <td>100</td>\n",
       "      <td>155</td>\n",
       "      <td>493</td>\n",
       "      <td>High</td>\n",
       "      <td>Frequent</td>\n",
       "    </tr>\n",
       "    <tr>\n",
       "      <th>4</th>\n",
       "      <td>5</td>\n",
       "      <td>49</td>\n",
       "      <td>92</td>\n",
       "      <td>103</td>\n",
       "      <td>636</td>\n",
       "      <td>Low</td>\n",
       "      <td>Infrequent</td>\n",
       "    </tr>\n",
       "  </tbody>\n",
       "</table>\n",
       "</div>"
      ],
      "text/plain": [
       "   Participant  Abil   IQ  Home   TV Rank_Abil   Rank_Home\n",
       "0            1    61  107   144  487      High    Frequent\n",
       "1            2    56  109   123  608      High  Infrequent\n",
       "2            3    45   81   108  640       Low  Infrequent\n",
       "3            4    66  100   155  493      High    Frequent\n",
       "4            5    49   92   103  636       Low  Infrequent"
      ]
     },
     "execution_count": 110,
     "metadata": {},
     "output_type": "execute_result"
    }
   ],
   "source": [
    "# Q3b (code):\n",
    "# Import necessary libraries\n",
    "import pandas as pd  ##used for data wrangling\n",
    "from scipy.stats import chi2_contingency ##used for chisquare test\n",
    "\n",
    "# Define the rounded average for Reading Ability and Home\n",
    "abil_avg = data['Abil'].mean().round()\n",
    "home_avg = data['Home'].mean().round()\n",
    "\n",
    "# Create the Rank_Abil column\n",
    "# Use the `apply` method with a lambda function to compare each value in the 'Abil' \n",
    "df_mh['Rank_Abil'] = df_mh['Abil'].apply(lambda x: 'High' if x > abil_avg else 'Low')#source:https://stackoverflow.com/questions/37828489/if-and-else-in-python-lambda-expression\n",
    "\n",
    "# Create the Rank_Home column\n",
    "# Use the `apply` method with a lambda function to compare each value in the 'Home' \n",
    "df_mh['Rank_Home'] = df_mh['Home'].apply(lambda x: 'Frequent' if x > home_avg else 'Infrequent')\n",
    "\n",
    "df_mh.head()"
   ]
  },
  {
   "cell_type": "code",
   "execution_count": 62,
   "metadata": {
    "id": "jjtp4cm4-Y36"
   },
   "outputs": [
    {
     "name": "stdout",
     "output_type": "stream",
     "text": [
      "Rank_Home  Frequent  Infrequent\n",
      "Rank_Abil                      \n",
      "High              8           2\n",
      "Low               3          12\n"
     ]
    }
   ],
   "source": [
    "# Q3c (code):\n",
    "# Construct Contingency Matrix\n",
    "contingency_matrix = pd.crosstab(df_mh['Rank_Abil'], df_mh['Rank_Home'])\n",
    "print('The contingency matrix')\n",
    "print(contingency_matrix)"
   ]
  },
  {
   "cell_type": "code",
   "execution_count": 65,
   "metadata": {
    "id": "gyDS8hq2-bmx"
   },
   "outputs": [
    {
     "name": "stdout",
     "output_type": "stream",
     "text": [
      "6.500270562770561 0.010785807794066234\n",
      "These are the expected frequencies\n",
      "[[4.4 5.6]\n",
      " [6.6 8.4]]\n"
     ]
    }
   ],
   "source": [
    "# Q3d (code):\n",
    "# Perform the Chi-square test\n",
    "chi2, p_value, degree_of_freedom, expected_frequencies = chi2_contingency(contingency_matrix)\n",
    "print(chi2, p_value)\n",
    "print('These are the expected frequencies')\n",
    "print(expected_frequencies)"
   ]
  },
  {
   "cell_type": "markdown",
   "metadata": {
    "id": "fj0gW0pS-dN5"
   },
   "source": [
    "#Q3e (answer in words):\n",
    "\n",
    "The Chi-square test results in a p-value of 0.011, which is less than the 5% significance level. Therefore, we reject the null hypothesis, concluding that there is a significant association between reading ability and the  time spent reading at home."
   ]
  },
  {
   "cell_type": "markdown",
   "metadata": {
    "id": "FgYRxqqpaUIk"
   },
   "source": [
    "## Task 3. Two-sample t-test\n",
    "As we discussed on Week 3, Two-sample designs are very useful when we want to know whether there is a difference between groups on a particular variable.\n",
    "\n",
    "In this assignment, you will be guided to replicate the Experiment 4 (p. 887-888) from the paper below, focusing on understanding the data through descriptive statistics, visualizing distributions, testing assumptions (normality and variance homogeneity), and finally performing the independent t-test.\n",
    "\n",
    "Schroeder, J. and Epley, N. (2015). The sound of intellect: Speech reveals a thoughtful mind, increasing a job candidate's appeal. Psychological Science, 26, 277--891.\n",
    "\n",
    "\n",
    "As we explained during Week 3 lecture, there are different types of two-sample designs depending on whether or not the two groups are independent (e.g., different participants in different conditions) or not (e.g., same participants in different conditions). In this course we focus on independent samples, which typically means that the observations in the two groups are unrelated - usually meaning different people. But in real practice you will need to go through similar procedures to determine which is the proper statistical test to use.\n",
    "\n",
    "\n",
    "\n",
    "\n",
    "### Background of data: Speech as indicator of intellect\n",
    "To recap on Experiment 4, 39 professional recruiters from Fortune 500 companies evaluated job pitches of M.B.A. candidates (Masters in Business Administration) from the University of Chicago Booth School of Business. The methods and results appear on pages 887--889 of the article if you want to look at them specifically for more details."
   ]
  },
  {
   "cell_type": "markdown",
   "metadata": {
    "id": "vIc57Glgn5Bb"
   },
   "source": [
    "###Step 1: Analyze the demographics of evaluators from the provided dataset\n",
    "\n",
    "**Instructions:**\n",
    "\n",
    "1. Load the necessary libraries (pandas, scipy, numpy, matplotlib.pyplot, seaborn) and explain why you need them (\"#used for ...\").\n",
    "\n",
    "2. Read the evaluators.csv file into a DataFrame.\n",
    "\n",
    "3. Calculate the mean and standard deviation of the age of the evaluators, handling missing values appropriately.\n",
    "\n",
    "4. Count how many male and female evaluators were in the study.\n",
    "\n",
    "**Question 4:**\n",
    "\n",
    "a. What was the mean age of the evaluators?\n",
    "What was the standard deviation of the age of the evaluators?\n",
    "\n",
    "b. How many participants were female and how many participants were male?\n"
   ]
  },
  {
   "cell_type": "code",
   "execution_count": 11,
   "metadata": {
    "id": "RgnTye-yojyH"
   },
   "outputs": [
    {
     "data": {
      "text/html": [
       "<div>\n",
       "<style scoped>\n",
       "    .dataframe tbody tr th:only-of-type {\n",
       "        vertical-align: middle;\n",
       "    }\n",
       "\n",
       "    .dataframe tbody tr th {\n",
       "        vertical-align: top;\n",
       "    }\n",
       "\n",
       "    .dataframe thead th {\n",
       "        text-align: right;\n",
       "    }\n",
       "</style>\n",
       "<table border=\"1\" class=\"dataframe\">\n",
       "  <thead>\n",
       "    <tr style=\"text-align: right;\">\n",
       "      <th></th>\n",
       "      <th>eval_id</th>\n",
       "      <th>condition</th>\n",
       "      <th>age</th>\n",
       "      <th>sex</th>\n",
       "    </tr>\n",
       "  </thead>\n",
       "  <tbody>\n",
       "    <tr>\n",
       "      <th>0</th>\n",
       "      <td>1</td>\n",
       "      <td>listened</td>\n",
       "      <td>29.0</td>\n",
       "      <td>2.0</td>\n",
       "    </tr>\n",
       "    <tr>\n",
       "      <th>1</th>\n",
       "      <td>2</td>\n",
       "      <td>listened</td>\n",
       "      <td>27.0</td>\n",
       "      <td>2.0</td>\n",
       "    </tr>\n",
       "    <tr>\n",
       "      <th>2</th>\n",
       "      <td>3</td>\n",
       "      <td>listened</td>\n",
       "      <td>27.0</td>\n",
       "      <td>2.0</td>\n",
       "    </tr>\n",
       "    <tr>\n",
       "      <th>3</th>\n",
       "      <td>4</td>\n",
       "      <td>read</td>\n",
       "      <td>40.0</td>\n",
       "      <td>2.0</td>\n",
       "    </tr>\n",
       "    <tr>\n",
       "      <th>4</th>\n",
       "      <td>5</td>\n",
       "      <td>read</td>\n",
       "      <td>32.0</td>\n",
       "      <td>2.0</td>\n",
       "    </tr>\n",
       "  </tbody>\n",
       "</table>\n",
       "</div>"
      ],
      "text/plain": [
       "   eval_id condition   age  sex\n",
       "0        1  listened  29.0  2.0\n",
       "1        2  listened  27.0  2.0\n",
       "2        3  listened  27.0  2.0\n",
       "3        4      read  40.0  2.0\n",
       "4        5      read  32.0  2.0"
      ]
     },
     "execution_count": 11,
     "metadata": {},
     "output_type": "execute_result"
    }
   ],
   "source": [
    "import pandas as pd # used for for data wrangling\n",
    "from scipy import stats #used for statistical tests\n",
    "import numpy as np #used for numerical operations and array manipulations. \n",
    "import matplotlib.pyplot as plt #used for Plotting library for creating static, animated, and interactive visualizations\n",
    "import seaborn as sns #used for visualization based on Matplotlib\n",
    "\n",
    "# Load the data\n",
    "df_evaluators = pd.read_csv('/Users/zhanghanyue/Desktop/evaluators.csv')\n",
    "df_evaluators.head()\n"
   ]
  },
  {
   "cell_type": "code",
   "execution_count": 67,
   "metadata": {
    "id": "eDw0XnX3BRhe"
   },
   "outputs": [
    {
     "name": "stdout",
     "output_type": "stream",
     "text": [
      "30.852941176470587\n",
      "6.238358141327351\n"
     ]
    }
   ],
   "source": [
    "# Q4a (code):\n",
    "# Calculate mean and standard deviation for age\n",
    "mean_age= df_evaluators['age'].mean()\n",
    "std_age= df_evaluators['age'].std()\n",
    "print(mean_age)\n",
    "print(std_age)"
   ]
  },
  {
   "cell_type": "code",
   "execution_count": 68,
   "metadata": {
    "id": "I0tU57R5ufRI"
   },
   "outputs": [
    {
     "name": "stdout",
     "output_type": "stream",
     "text": [
      "Number of male evaluators: 4\n",
      "Number of female evaluators: 30\n"
     ]
    }
   ],
   "source": [
    "# Q4b (code)\n",
    "# Count male and female evaluators\n",
    "# In the 'sex' column: 1 represents males and 2 represents females\n",
    "male_count = df_evaluators[df_evaluators['sex'] == 1]['sex'].count()\n",
    "female_count = df_evaluators[df_evaluators['sex'] == 2]['sex'].count()\n",
    "\n",
    "print(\"Number of male evaluators:\", male_count)\n",
    "print(\"Number of female evaluators:\", female_count)"
   ]
  },
  {
   "cell_type": "markdown",
   "metadata": {
    "id": "KK-MdZfdpDI3"
   },
   "source": [
    "###Step 2: Calculate overall intellect ratings from evaluators and prepare a combined dataset for analysis\n",
    "\n",
    "We are now going to calculate an overall intellect rating given by each evaluator. To break that down a bit, we are going to calculate how intellectual the evaluators (the raters) thought candidates were overall, depending on whether the evaluators read or listened to the candidates' resume pitches. This is calculated by averaging the ratings of competent, thoughtful and intelligent for each evaluator held within ratings.csv.\n",
    "\n",
    "Note: We are not looking at ratings to individual candidates; we are looking at overall ratings for each evaluator. This is a bit confusing but makes sense if you stop to think about it a little. You can think about it in terms of \"do raters rate differently depending on whether they read or listen to a resume pitch\".\n",
    "We will then combine the overall intellect rating with the overall impression ratings and overall hire ratings for each evaluator, all ready found in ratings.csv. In the end we will have a new new dataframe named \"ratings2\" - which has the below structure:\n",
    "\n",
    "**eval_id** shows the evaluator ID. Each evaluator has a different ID. So all the 1's are the same evaluator.\n",
    "\n",
    "**Category** shows the scale that they were rating on - intellect, hire, impression\n",
    "\n",
    "**Rating** shows the overall rating given by that evaluator on a given scale.\n",
    "\n",
    "**condition** shows whether that evaluator listened to (e.g., evaluators 1, 2 and 3), or read (e.g., evaluator 4) the resume.\n",
    "\n",
    "\n",
    "**Instructions:**\n",
    "\n",
    "1. Load the ratings.csv file.\n",
    "\n",
    "2. Filter and calculate the mean intellect rating for each evaluator.\n",
    "\n",
    "3. Combine this with overall impression and hire ratings to create a new DataFrame named \"rating2\".\n",
    "\n",
    "4. Merge this DataFrame with the evaluator demographics.\n",
    "\n",
    "**Question 5**:\n",
    "\n",
    "Print the head of \"rating2\".\n"
   ]
  },
  {
   "cell_type": "code",
   "execution_count": 12,
   "metadata": {
    "id": "l85NzSC-pj57"
   },
   "outputs": [
    {
     "data": {
      "text/html": [
       "<div>\n",
       "<style scoped>\n",
       "    .dataframe tbody tr th:only-of-type {\n",
       "        vertical-align: middle;\n",
       "    }\n",
       "\n",
       "    .dataframe tbody tr th {\n",
       "        vertical-align: top;\n",
       "    }\n",
       "\n",
       "    .dataframe thead th {\n",
       "        text-align: right;\n",
       "    }\n",
       "</style>\n",
       "<table border=\"1\" class=\"dataframe\">\n",
       "  <thead>\n",
       "    <tr style=\"text-align: right;\">\n",
       "      <th></th>\n",
       "      <th>eval_id</th>\n",
       "      <th>Category</th>\n",
       "      <th>Rating</th>\n",
       "    </tr>\n",
       "  </thead>\n",
       "  <tbody>\n",
       "    <tr>\n",
       "      <th>0</th>\n",
       "      <td>1</td>\n",
       "      <td>competent</td>\n",
       "      <td>6.0</td>\n",
       "    </tr>\n",
       "    <tr>\n",
       "      <th>1</th>\n",
       "      <td>1</td>\n",
       "      <td>thoughtful</td>\n",
       "      <td>6.0</td>\n",
       "    </tr>\n",
       "    <tr>\n",
       "      <th>2</th>\n",
       "      <td>1</td>\n",
       "      <td>intelligent</td>\n",
       "      <td>6.0</td>\n",
       "    </tr>\n",
       "    <tr>\n",
       "      <th>3</th>\n",
       "      <td>1</td>\n",
       "      <td>impression</td>\n",
       "      <td>7.0</td>\n",
       "    </tr>\n",
       "    <tr>\n",
       "      <th>4</th>\n",
       "      <td>1</td>\n",
       "      <td>hire</td>\n",
       "      <td>6.0</td>\n",
       "    </tr>\n",
       "  </tbody>\n",
       "</table>\n",
       "</div>"
      ],
      "text/plain": [
       "   eval_id     Category  Rating\n",
       "0        1    competent     6.0\n",
       "1        1   thoughtful     6.0\n",
       "2        1  intelligent     6.0\n",
       "3        1   impression     7.0\n",
       "4        1         hire     6.0"
      ]
     },
     "execution_count": 12,
     "metadata": {},
     "output_type": "execute_result"
    }
   ],
   "source": [
    "# Load ratings data\n",
    "df_ratings= pd.read_csv('/Users/zhanghanyue/Desktop/ratings.csv')\n",
    "df_ratings.head()\n"
   ]
  },
  {
   "cell_type": "code",
   "execution_count": 38,
   "metadata": {},
   "outputs": [
    {
     "data": {
      "text/html": [
       "<div>\n",
       "<style scoped>\n",
       "    .dataframe tbody tr th:only-of-type {\n",
       "        vertical-align: middle;\n",
       "    }\n",
       "\n",
       "    .dataframe tbody tr th {\n",
       "        vertical-align: top;\n",
       "    }\n",
       "\n",
       "    .dataframe thead th {\n",
       "        text-align: right;\n",
       "    }\n",
       "</style>\n",
       "<table border=\"1\" class=\"dataframe\">\n",
       "  <thead>\n",
       "    <tr style=\"text-align: right;\">\n",
       "      <th></th>\n",
       "      <th>eval_id</th>\n",
       "      <th>Category</th>\n",
       "      <th>Rating</th>\n",
       "      <th>condition</th>\n",
       "    </tr>\n",
       "  </thead>\n",
       "  <tbody>\n",
       "    <tr>\n",
       "      <th>0</th>\n",
       "      <td>1</td>\n",
       "      <td>hire</td>\n",
       "      <td>6.000000</td>\n",
       "      <td>listened</td>\n",
       "    </tr>\n",
       "    <tr>\n",
       "      <th>1</th>\n",
       "      <td>1</td>\n",
       "      <td>impression</td>\n",
       "      <td>7.000000</td>\n",
       "      <td>listened</td>\n",
       "    </tr>\n",
       "    <tr>\n",
       "      <th>2</th>\n",
       "      <td>1</td>\n",
       "      <td>intellect</td>\n",
       "      <td>6.000000</td>\n",
       "      <td>listened</td>\n",
       "    </tr>\n",
       "    <tr>\n",
       "      <th>3</th>\n",
       "      <td>2</td>\n",
       "      <td>hire</td>\n",
       "      <td>4.000000</td>\n",
       "      <td>listened</td>\n",
       "    </tr>\n",
       "    <tr>\n",
       "      <th>4</th>\n",
       "      <td>2</td>\n",
       "      <td>impression</td>\n",
       "      <td>4.666667</td>\n",
       "      <td>listened</td>\n",
       "    </tr>\n",
       "  </tbody>\n",
       "</table>\n",
       "</div>"
      ],
      "text/plain": [
       "   eval_id    Category    Rating condition\n",
       "0        1        hire  6.000000  listened\n",
       "1        1  impression  7.000000  listened\n",
       "2        1   intellect  6.000000  listened\n",
       "3        2        hire  4.000000  listened\n",
       "4        2  impression  4.666667  listened"
      ]
     },
     "execution_count": 38,
     "metadata": {},
     "output_type": "execute_result"
    }
   ],
   "source": [
    "# Filter the ratings DataFrame to include only 'thoughtful', 'competent', and 'intelligent' categories\n",
    "filtered_df = ratings[ratings['Category'].isin(['thoughtful', 'competent', 'intelligent'])]\n",
    "\n",
    "# Calculate the mean intellect rating for each evaluator\n",
    "# Group by 'eval_id' and calculate mean, then reset the index to convert groupby object back to DataFrame\n",
    "intellect_mean_ratings = filtered_df.groupby('eval_id')['Rating'].mean().reset_index()\n",
    "\n",
    "# Add a 'Category' column with the value 'intellect' for these rows\n",
    "intellect_mean_ratings['Category'] = 'intellect'\n",
    "\n",
    "# Create a DataFrame for 'impression' and 'hire' ratings\n",
    "impression_hire_df = ratings[ratings['Category'].isin(['impression', 'hire'])]\n",
    "\n",
    "# Combine the DataFrames to create 'ratings2'\n",
    "# Concatenate the 'intellect_mean' DataFrame with the 'impression_hire_df' DataFrame\n",
    "ratings2 = pd.concat([intellect_mean_ratings, impression_hire_df], ignore_index=True)\n",
    "\n",
    "# Join 'ratings2' with the 'df_evaluators' DataFrame to add the 'condition' column\n",
    "ratings2 = pd.merge(ratings2, df_evaluators[['eval_id', 'condition']], on='eval_id', how='left')\n",
    "\n",
    "# Select only the necessary columns as per the structure required\n",
    "ratings2 = ratings2[['eval_id', 'Category', 'Rating', 'condition']]\n",
    "\n",
    "# Arrange by 'eval_id' and 'Category'\n",
    "ratings2_sorted = ratings2.sort_values(by=['eval_id', 'Category']).reset_index(drop=True)\n",
    "\n",
    "# Display the first few rows of the final 'ratings2' DataFrame to verify\n",
    "ratings2_sorted.head()\n"
   ]
  },
  {
   "cell_type": "markdown",
   "metadata": {
    "id": "fOmtKCzEpoOa"
   },
   "source": [
    "###Step 3: Perform descriptive and inferential statistical analyses, including testing assumptions and conducting independent t-tests.\n",
    "\n",
    "We are going to run the t-tests for Intellect, Hire and Impression; each time comparing evaluators overall ratings for the listened group versus overall ratings for the read group to see if there was a significant difference between the two conditions: i.e., did the evaluators who listened to pitches give a significant higher or lower rating than evaluators that read pitches?\n",
    "\n",
    "**Question 6**:\n",
    "\n",
    "a. In terms of hypotheses, how can we phrase the hypothesis?\n",
    "\n",
    "b. Which t-test should we choose, one-tail or two-tail? And explian why.\n",
    "\n",
    "c. What are the independent variable and the dependent variable here?\n",
    "\n"
   ]
  },
  {
   "cell_type": "markdown",
   "metadata": {
    "id": "duti45rG22eS"
   },
   "source": [
    "#Q6a (answer in words):\n",
    "\n",
    "#Null hypothesis:\n",
    "\n",
    "There is no significant difference in the overall ratings for 'intellect,' 'impression,' and 'hire' between evaluators who listened to resume pitches and those who read the resume pitches (H0: μ1 = μ2)\n",
    "\n",
    "#Alternative hypothesis:\n",
    "\n",
    "There is a significant difference between overall ratings between evaluators who listened to resume pitches and those who read the resume pitches.(H1:μ1/=μ2)\n",
    "\n",
    "#we could phrase the null hypothesis for these tests as there is no significant difference between overall ratings on the {insert trait} scale between evaluators who listened to resume pitches and evaluators who read the resume pitches (H0:μ1=μ2). Alternatively, we could state it as there will be a significant difference between overall ratings on the {insert trait} scale between evaluators who listened to resume pitches and evaluators who read the resume pitches (H1:μ1≠μ2)."
   ]
  },
  {
   "cell_type": "markdown",
   "metadata": {
    "id": "EkoM_0js3fyS"
   },
   "source": [
    "#Q6b (answer in words):\n",
    "#Which t-test should we choose, one-tail or two-tail? Explian why.\n",
    "\n",
    "we should choose two-tail which is non-directional. Because we aim to determine whether there is a significant difference in the overall ratings for 'intellect,' 'impression,' and 'hire' between evaluators who listened to pitches and those who read them"
   ]
  },
  {
   "cell_type": "markdown",
   "metadata": {
    "id": "073zOlIsI5ws"
   },
   "source": [
    "#Q6c (answer in words):\n",
    "#What are the independent variable and the dependent variable here?\n",
    "\n",
    "Independent variable: The way of receiving  pitches (listening or reading).\n",
    "\n",
    "Dependent variable: Overall ratings given by the evaluators."
   ]
  },
  {
   "cell_type": "markdown",
   "metadata": {
    "id": "4g-SpuDX23iL"
   },
   "source": [
    "\n",
    "To clarify, we are going to run three between-subjects t-tests in total; one for intellect ratings; one for hire ratings; one for impression ratings.\n",
    "\n",
    "**Instructions:**\n",
    "\n",
    "1. Descriptive analysis of the ratings.\n",
    "\n",
    "2. Test for normal distribution (Shapiro-Wilk test) and homogeneity of variances (Levene's test) for the intellect, impression, and hire ratings.\n",
    "\n",
    "3. Conduct independent t-tests comparing intellect, impression, and hire ratings between conditions (listened vs. read).\n",
    "\n",
    "Hints: three T-tests need to be performed.\n",
    "\n",
    "**Question 7**:\n",
    "\n",
    "a: Print the test results.\n",
    "\n",
    "b: Interpret the results of the above descriptive statistics, Shapiro-Wilk test, Levene's test, and independent t-tests. Explian why we use these tests and how we made our decisions based on the test result."
   ]
  },
  {
   "cell_type": "code",
   "execution_count": 41,
   "metadata": {
    "id": "QD3ZZRrAq4Gc"
   },
   "outputs": [
    {
     "name": "stdout",
     "output_type": "stream",
     "text": [
      "count    117.000000\n",
      "mean       4.561254\n",
      "std        2.240198\n",
      "min        0.000000\n",
      "25%        3.000000\n",
      "50%        4.666667\n",
      "75%        6.000000\n",
      "max        9.000000\n",
      "Name: Rating, dtype: float64\n"
     ]
    }
   ],
   "source": [
    "##Q7a (code):\n",
    "from scipy.stats import shapiro, levene, ttest_ind # used for statistical tests\n",
    "\n",
    "# Descriptive analysis of the ratings\n",
    "\n",
    "description = ratings2_sorted['Rating'].describe()\n",
    "\n",
    "print(description)"
   ]
  },
  {
   "cell_type": "code",
   "execution_count": 55,
   "metadata": {},
   "outputs": [
    {
     "name": "stdout",
     "output_type": "stream",
     "text": [
      "                      count      mean       std       min       25%       50%  \\\n",
      "Category   condition                                                            \n",
      "hire       listened    21.0  4.714286  2.261479  0.000000  4.000000  5.000000   \n",
      "           read        18.0  2.888889  2.054805  0.000000  1.250000  2.000000   \n",
      "impression listened    21.0  5.968254  1.917477  2.333333  4.666667  6.666667   \n",
      "           read        18.0  4.074074  2.233306  0.333333  2.166667  4.500000   \n",
      "intellect  listened    21.0  5.634921  1.608674  2.333333  5.000000  5.666667   \n",
      "           read        18.0  3.648148  1.911343  0.666667  2.083333  3.666667   \n",
      "\n",
      "                           75%       max  \n",
      "Category   condition                      \n",
      "hire       listened   7.000000  8.000000  \n",
      "           read       4.000000  7.000000  \n",
      "impression listened   7.333333  8.666667  \n",
      "           read       5.333333  7.333333  \n",
      "intellect  listened   6.000000  9.000000  \n",
      "           read       4.666667  7.000000  \n"
     ]
    }
   ],
   "source": [
    "ratings_desc = ratings2_sorted.groupby(['Category', 'condition'])['Rating'].describe()\n",
    "print(ratings_desc)"
   ]
  },
  {
   "cell_type": "code",
   "execution_count": 100,
   "metadata": {},
   "outputs": [],
   "source": [
    "# Create df which group by Category\n",
    "sub_df = ratings2.groupby(\"Category\")\n",
    "# Create seperate df for all categories\n",
    "impression = sub_df.get_group(\"impression\")\n",
    "hire = sub_df.get_group(\"hire\")\n",
    "intellect = sub_df.get_group(\"intellect\")\n",
    "\n",
    "# Create df for 2 conditions (listened and read) in 3 categories(hire, impression and intellect)\n",
    "#1.hire\n",
    "hire_listen = ratings2[(ratings2['Category'] == 'hire') & (ratings2['condition'] == 'listened')]\n",
    "hire_read = ratings2[(ratings2['Category'] == 'hire') & (ratings2['condition'] == 'read')]\n",
    "#2.impression\n",
    "impression_listen = impression[(impression['Category'] == 'impression') & (impression['condition'] == 'listened')]\n",
    "impression_read = impression[(impression['Category'] == 'impression') & (impression['condition'] == 'read')]\n",
    "#3.intellect\n",
    "intellect_listen = intellect[(intellect['Category'] == 'intellect') & (intellect['condition'] == 'listened')]\n",
    "intellect_read = intellect[(intellect['Category'] == 'intellect') & (intellect['condition'] == 'read')]"
   ]
  },
  {
   "cell_type": "code",
   "execution_count": 111,
   "metadata": {},
   "outputs": [
    {
     "name": "stdout",
     "output_type": "stream",
     "text": [
      "\n",
      "Shapiro-Wilk test Results:\n",
      "Impression: 0.9595586657524109 0.17238490283489227\n",
      "Hire: 0.9427911043167114 0.04710420221090317\n",
      "Intellect: 0.974760115146637 0.5182614326477051\n"
     ]
    }
   ],
   "source": [
    "# Test for normal distribution (Shapiro-Wilk test)\n",
    "from scipy import stats\n",
    "# Shapiro-Wilk Test for 'impression' ratings\n",
    "score_shapiro_impression, p_val_shapiro_impression = stats.shapiro(impression_ratings)\n",
    "\n",
    "# Shapiro-Wilk Test for 'hire' ratings\n",
    "score_shapiro_hire, p_val_shapiro_hire = stats.shapiro(hire_ratings)\n",
    "\n",
    "# Shapiro-Wilk Test for 'intellect' ratings\n",
    "score_shapiro_intellect, p_val_shapiro_intellect = stats.shapiro(intellect_ratings)\n",
    "\n",
    "print(\"\\nShapiro-Wilk test Results:\")\n",
    "print('Impression:', score_shapiro_impression, p_val_shapiro_impression)\n",
    "print('Hire:', score_shapiro_hire, p_val_shapiro_hire)\n",
    "print('Intellect:', score_shapiro_intellect, p_val_shapiro_intellect)"
   ]
  },
  {
   "cell_type": "code",
   "execution_count": 108,
   "metadata": {},
   "outputs": [
    {
     "name": "stdout",
     "output_type": "stream",
     "text": [
      "Levene's test for impression, listen & read:\n",
      "Statistic: 0.39045326236607025, p-value: 0.5358960150374064\n",
      "Levene's test for hire, listen & read:\n",
      "Statistic: 0.10663746145199855, p-value: 0.7458453933447955\n",
      "Levene's test for intellect, listen & read:\n",
      "Statistic: 0.8980185752566812, p-value: 0.34946205893248505\n"
     ]
    }
   ],
   "source": [
    "# Test for homogeneity of variances (Levene's test)\n",
    "# Test for impression, listen & read\n",
    "score_levene_impression_l_r, p_val_levene_impression_l_r = stats.levene(impression_listen['Rating'], impression_read['Rating'])\n",
    "# Test for hire, listen & read\n",
    "score_levene_hire_l_r, p_val_levene_hire_l_r = stats.levene(hire_listen['Rating'], hire_read['Rating'])\n",
    "# Test for intellect, listen & read\n",
    "score_levene_intellect_l_r, p_val_levene_intellect_l_r = stats.levene(intellect_listen['Rating'], intellect_read['Rating'])\n",
    "\n",
    "\n",
    "print(f\"Levene's test for impression, listen & read:\")\n",
    "print(f\"Statistic: {score_levene_impression_l_r}, p-value: {p_val_levene_impression_l_r}\")\n",
    "\n",
    "\n",
    "print(f\"Levene's test for hire, listen & read:\")\n",
    "print(f\"Statistic: {score_levene_hire_l_r}, p-value: {p_val_levene_hire_l_r}\")\n",
    "\n",
    "print(f\"Levene's test for intellect, listen & read:\")\n",
    "print(f\"Statistic: {score_levene_intellect_l_r}, p-value: {p_val_levene_intellect_l_r}\")\n"
   ]
  },
  {
   "cell_type": "code",
   "execution_count": 109,
   "metadata": {},
   "outputs": [
    {
     "name": "stdout",
     "output_type": "stream",
     "text": [
      "Independent t-Tests\n",
      "Impression: t-Statistic = 2.850766179025179, p-value = 0.007091060616710596\n",
      "Hire: t-Statistic = 2.620100218173143, p-value = 0.012674511839824125\n",
      "Intellect: t-Statistic = 3.5259329220482414, p-value = 0.0011444414996286821\n"
     ]
    }
   ],
   "source": [
    "# Independent t-test\n",
    "# Test for impression, listen & read\n",
    "ttest_score_impression, p_val_impression = stats.ttest_ind(impression_listen['Rating'], impression_read['Rating'])\n",
    "# Test for hire, listen & read\n",
    "ttest_score_hire, p_val_hire = stats.ttest_ind(hire_listen['Rating'], hire_read['Rating'])\n",
    "# Test for intellect, listen & read\n",
    "ttest_score_intellect, p_val_intellect = stats.ttest_ind(intellect_listen['Rating'], intellect_read['Rating'])\n",
    "\n",
    "print(\"Independent t-Tests\")\n",
    "print(f\"Impression: t-Statistic = {ttest_score_impression}, p-value = {p_val_impression}\")\n",
    "print(f\"Hire: t-Statistic = {ttest_score_hire}, p-value = {p_val_hire}\")\n",
    "print(f\"Intellect: t-Statistic = {ttest_score_intellect}, p-value = {p_val_intellect}\")"
   ]
  },
  {
   "cell_type": "markdown",
   "metadata": {
    "id": "aifm_T8UQwYm"
   },
   "source": [
    "Q7b (answer in words):\n",
    "\n",
    "\n",
    "1.descriptive statistics\n",
    "\n",
    "For three categories, mean were higher in the listened condition than in the read condition, which may indicate a more positive effect on raters in the listened condition. \n",
    "\n",
    "In the listened condition, it can be seen that greater variability in the category of \"Hire\" (standard deviation 2.61) and \"Impression\" (standard deviation 1.92) and less variability in the category of \"Intellect\" (standard deviation 1.61) This suggests that raters were more divided in their ratings of \"Hire\" and \"Impression\" and more unified in their ratings of \"Intellect\".\n",
    "\n",
    "In contrast, in the read condition, ratings in the categoriy of \"Hire\" (standard deviation 2.05), \"Impression\" (standard deviation 2.23), and \"Intellect\" (standard deviation 1.91) were similar in terms of variability.This suggests that the consistency of raters' ratings across categories was relatively even in the read condition."
   ]
  },
  {
   "cell_type": "markdown",
   "metadata": {},
   "source": [
    "2.Shapiro-Wilk test\n",
    "\n",
    "Intellect: The p-value is 0.518, which is greater than the common alpha level of 0.05. This means that there is not enough evidence to reject the null hypothesis, and we can assume that the data for the 'intellect' category is normally distributed.\n",
    "\n",
    "Impression: The p-value is 0.172, also greater than 0.05. Similar to the 'intellect' category, this suggests that we can assume that the data for the 'Impression' category is normally distributed.\n",
    "\n",
    "Hire: The p-value is 0.047, which is  below the 0.05 threshold. This suggests that there is enough evidence to reject the null hypothesis for the 'hire' category, indicating that the data does not follow a normal distribution."
   ]
  },
  {
   "cell_type": "markdown",
   "metadata": {},
   "source": [
    "3.Levene's test\n",
    "\n",
    "\n",
    "Impression (listen & read):\n",
    "The p-value is 0.536 that much greater than 0.05, there is not enough evidence to reject the null hypothesis. This suggests that the variance in ratings for 'impression' is not significantly different between the 'listen' and 'read' conditions.\n",
    "\n",
    "Hire (listen & read):\n",
    "The p-value is 0.746 that well above the 0.05, indicating that there is no significant difference in variance for 'hire' between the two conditions.\n",
    "\n",
    "Intellect (listen & read):\n",
    "The p-value is 0.349 that also than 0.05, so again,indicating that there is no significant difference in variance for 'Intellect' between the two conditions."
   ]
  },
  {
   "cell_type": "markdown",
   "metadata": {},
   "source": [
    "4.Independent t-test\n",
    "\n",
    "\n",
    "Impression:The p-value is 0.0071 that less than 0.05, which suggests that there is a significant difference in the various 'impression' between the listening and reading conditions (listen and read). \n",
    "\n",
    "Hire:The p-value is 0.0127 that also less than 0.05, indicating a significant difference in the means of 'hire' ratings between two conditions. \n",
    "\n",
    "Intellect:The p-value is 0.0011 that much less than 0.05, indicating a  asignificant difference in the means of 'intellect' ratings between the two conditions. \n",
    "\n",
    "In conclusion，the results of the independent t-tests provide statistical evidence indicating significant differences in the mean ratings for 'intellect,' 'impression,' and 'hire' between the groups subjected to listening and reading conditions."
   ]
  },
  {
   "cell_type": "code",
   "execution_count": null,
   "metadata": {},
   "outputs": [],
   "source": []
  }
 ],
 "metadata": {
  "colab": {
   "provenance": []
  },
  "kernelspec": {
   "display_name": "Python 3 (ipykernel)",
   "language": "python",
   "name": "python3"
  },
  "language_info": {
   "codemirror_mode": {
    "name": "ipython",
    "version": 3
   },
   "file_extension": ".py",
   "mimetype": "text/x-python",
   "name": "python",
   "nbconvert_exporter": "python",
   "pygments_lexer": "ipython3",
   "version": "3.11.4"
  }
 },
 "nbformat": 4,
 "nbformat_minor": 1
}
